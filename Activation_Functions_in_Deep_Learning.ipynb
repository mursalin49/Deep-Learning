{
  "cells": [
    {
      "cell_type": "markdown",
      "metadata": {
        "id": "view-in-github",
        "colab_type": "text"
      },
      "source": [
        "<a href=\"https://colab.research.google.com/github/mursalin49/Deep-Learning/blob/main/Activation_Functions_in_Deep_Learning.ipynb\" target=\"_parent\"><img src=\"https://colab.research.google.com/assets/colab-badge.svg\" alt=\"Open In Colab\"/></a>"
      ]
    },
    {
      "cell_type": "code",
      "execution_count": 1,
      "id": "3caf694a",
      "metadata": {
        "id": "3caf694a"
      },
      "outputs": [],
      "source": [
        "# !pip install numpy"
      ]
    },
    {
      "cell_type": "code",
      "execution_count": null,
      "id": "55ac3bc2",
      "metadata": {
        "id": "55ac3bc2"
      },
      "outputs": [],
      "source": [
        "import numpy as np"
      ]
    },
    {
      "cell_type": "markdown",
      "id": "c0d809a6",
      "metadata": {
        "id": "c0d809a6"
      },
      "source": [
        "# 1. ReLU - Rectified Linear Unit (Hidden Layer)"
      ]
    },
    {
      "cell_type": "code",
      "execution_count": 2,
      "id": "47f174a7",
      "metadata": {
        "id": "47f174a7"
      },
      "outputs": [],
      "source": [
        "def relu(x):\n",
        "    return np.maximum(0, x)\n"
      ]
    },
    {
      "cell_type": "code",
      "execution_count": null,
      "id": "04873e16",
      "metadata": {
        "id": "04873e16",
        "outputId": "aa91496b-5a81-4427-db01-28423a5c3d45"
      },
      "outputs": [
        {
          "data": {
            "text/plain": [
              "10"
            ]
          },
          "execution_count": 4,
          "metadata": {},
          "output_type": "execute_result"
        }
      ],
      "source": [
        "relu(10)"
      ]
    },
    {
      "cell_type": "code",
      "execution_count": 3,
      "id": "81560793",
      "metadata": {
        "colab": {
          "base_uri": "https://localhost:8080/",
          "height": 219
        },
        "id": "81560793",
        "outputId": "b59bd929-0db1-49f4-9605-ebd709533953"
      },
      "outputs": [
        {
          "output_type": "error",
          "ename": "NameError",
          "evalue": "name 'np' is not defined",
          "traceback": [
            "\u001b[0;31m---------------------------------------------------------------------------\u001b[0m",
            "\u001b[0;31mNameError\u001b[0m                                 Traceback (most recent call last)",
            "\u001b[0;32m<ipython-input-3-1decfe062bc0>\u001b[0m in \u001b[0;36m<cell line: 0>\u001b[0;34m()\u001b[0m\n\u001b[0;32m----> 1\u001b[0;31m \u001b[0mrelu\u001b[0m\u001b[0;34m(\u001b[0m\u001b[0;34m-\u001b[0m\u001b[0;36m10\u001b[0m\u001b[0;34m)\u001b[0m\u001b[0;34m\u001b[0m\u001b[0;34m\u001b[0m\u001b[0m\n\u001b[0m",
            "\u001b[0;32m<ipython-input-2-967650930f0d>\u001b[0m in \u001b[0;36mrelu\u001b[0;34m(x)\u001b[0m\n\u001b[1;32m      1\u001b[0m \u001b[0;32mdef\u001b[0m \u001b[0mrelu\u001b[0m\u001b[0;34m(\u001b[0m\u001b[0mx\u001b[0m\u001b[0;34m)\u001b[0m\u001b[0;34m:\u001b[0m\u001b[0;34m\u001b[0m\u001b[0;34m\u001b[0m\u001b[0m\n\u001b[0;32m----> 2\u001b[0;31m     \u001b[0;32mreturn\u001b[0m \u001b[0mnp\u001b[0m\u001b[0;34m.\u001b[0m\u001b[0mmaximum\u001b[0m\u001b[0;34m(\u001b[0m\u001b[0;36m0\u001b[0m\u001b[0;34m,\u001b[0m \u001b[0mx\u001b[0m\u001b[0;34m)\u001b[0m\u001b[0;34m\u001b[0m\u001b[0;34m\u001b[0m\u001b[0m\n\u001b[0m",
            "\u001b[0;31mNameError\u001b[0m: name 'np' is not defined"
          ]
        }
      ],
      "source": [
        "relu(-10)"
      ]
    },
    {
      "cell_type": "code",
      "execution_count": null,
      "id": "e914d442",
      "metadata": {
        "id": "e914d442",
        "outputId": "a2b93b6f-037e-4c4e-88bd-b71b8d4ca5f4"
      },
      "outputs": [
        {
          "data": {
            "text/plain": [
              "array([0, 0, 1, 2])"
            ]
          },
          "execution_count": 6,
          "metadata": {},
          "output_type": "execute_result"
        }
      ],
      "source": [
        "relu(np.array([-1, 0, 1, 2]))"
      ]
    },
    {
      "cell_type": "markdown",
      "id": "e6ea50d7",
      "metadata": {
        "id": "e6ea50d7"
      },
      "source": [
        "# 2. Leaky ReLU (Hidden Layer)"
      ]
    },
    {
      "cell_type": "markdown",
      "id": "a19d2b17",
      "metadata": {
        "id": "a19d2b17"
      },
      "source": [
        "Leaky ReLU allows a small, positive gradient when the unit is not active."
      ]
    },
    {
      "cell_type": "code",
      "execution_count": null,
      "id": "0a2a2eb6",
      "metadata": {
        "id": "0a2a2eb6"
      },
      "outputs": [],
      "source": [
        "def leaky_relu(x, alpha=0.01):\n",
        "    return np.where(x > 0, x, x * alpha)\n"
      ]
    },
    {
      "cell_type": "code",
      "execution_count": null,
      "id": "c4212806",
      "metadata": {
        "id": "c4212806",
        "outputId": "103dee6f-7c97-4da6-d3d3-0a5a3ebd6e65"
      },
      "outputs": [
        {
          "data": {
            "text/plain": [
              "array(-0.01)"
            ]
          },
          "execution_count": 8,
          "metadata": {},
          "output_type": "execute_result"
        }
      ],
      "source": [
        "leaky_relu(-1)"
      ]
    },
    {
      "cell_type": "code",
      "execution_count": null,
      "id": "d243f562",
      "metadata": {
        "id": "d243f562",
        "outputId": "20457295-cd58-40c1-ed03-d06eb60fd0d6"
      },
      "outputs": [
        {
          "data": {
            "text/plain": [
              "array([-0.01,  0.  ,  1.  ,  2.  ])"
            ]
          },
          "execution_count": 9,
          "metadata": {},
          "output_type": "execute_result"
        }
      ],
      "source": [
        "leaky_relu(np.array([-1, 0, 1, 2]))"
      ]
    },
    {
      "cell_type": "markdown",
      "id": "6393bc6a",
      "metadata": {
        "id": "6393bc6a"
      },
      "source": [
        "# 3. ELU - Exponential Linear Unit (Hidden Layer)"
      ]
    },
    {
      "cell_type": "markdown",
      "id": "cd1277d3",
      "metadata": {
        "id": "cd1277d3"
      },
      "source": [
        "ELU has a small slope for negative values, unlike ReLU, to avoid the dying ReLU problem."
      ]
    },
    {
      "cell_type": "code",
      "execution_count": null,
      "id": "ae19a635",
      "metadata": {
        "id": "ae19a635"
      },
      "outputs": [],
      "source": [
        "def elu(x, alpha=1.0):\n",
        "    return np.where(x > 0, x, alpha * (np.exp(x) - 1))"
      ]
    },
    {
      "cell_type": "code",
      "execution_count": null,
      "id": "8120ec43",
      "metadata": {
        "id": "8120ec43",
        "outputId": "b0d74e21-f821-425e-af50-b8d091f2fdf8"
      },
      "outputs": [
        {
          "data": {
            "text/plain": [
              "array(5.)"
            ]
          },
          "execution_count": 11,
          "metadata": {},
          "output_type": "execute_result"
        }
      ],
      "source": [
        "elu(5)"
      ]
    },
    {
      "cell_type": "code",
      "execution_count": null,
      "id": "dc0d1b39",
      "metadata": {
        "id": "dc0d1b39",
        "outputId": "7aaba640-6bf3-49f2-eb3c-62197bfb0902"
      },
      "outputs": [
        {
          "data": {
            "text/plain": [
              "array([-0.63212056,  0.        ,  1.        ,  2.        ])"
            ]
          },
          "execution_count": 12,
          "metadata": {},
          "output_type": "execute_result"
        }
      ],
      "source": [
        "elu(np.array([-1, 0, 1, 2]))"
      ]
    },
    {
      "cell_type": "markdown",
      "id": "02a66821",
      "metadata": {
        "id": "02a66821"
      },
      "source": [
        "# 4. Sigmoid (Output Layer & Binaryclass Problem)"
      ]
    },
    {
      "cell_type": "code",
      "execution_count": null,
      "id": "037e9cb3",
      "metadata": {
        "id": "037e9cb3"
      },
      "outputs": [],
      "source": [
        "def sigmoid(x):\n",
        "    return 1 / (1 + np.exp(-x))\n"
      ]
    },
    {
      "cell_type": "code",
      "execution_count": null,
      "id": "408f0b7f",
      "metadata": {
        "id": "408f0b7f",
        "outputId": "0bc38897-fddb-4494-863d-276ab814434b"
      },
      "outputs": [
        {
          "data": {
            "text/plain": [
              "array([0.26894142, 0.5       , 0.73105858, 0.88079708])"
            ]
          },
          "execution_count": 14,
          "metadata": {},
          "output_type": "execute_result"
        }
      ],
      "source": [
        "sigmoid(np.array([-1, 0, 1, 2]))"
      ]
    },
    {
      "cell_type": "markdown",
      "id": "d6afd65e",
      "metadata": {
        "id": "d6afd65e"
      },
      "source": [
        "# 5. Softmax (Output Layer & Multiclass Problem)"
      ]
    },
    {
      "cell_type": "markdown",
      "id": "6d7f80ba",
      "metadata": {
        "id": "6d7f80ba"
      },
      "source": [
        "Softmax converts a real vector to a vector of categorical probabilities."
      ]
    },
    {
      "cell_type": "code",
      "execution_count": null,
      "id": "1bd42072",
      "metadata": {
        "id": "1bd42072"
      },
      "outputs": [],
      "source": [
        "def softmax(x):\n",
        "    e_x = np.exp(x - np.max(x))\n",
        "    return e_x / e_x.sum(axis=0)\n"
      ]
    },
    {
      "cell_type": "code",
      "execution_count": null,
      "id": "136ead8b",
      "metadata": {
        "id": "136ead8b",
        "outputId": "9ae8e17d-8cdb-4f68-9694-146720775e40"
      },
      "outputs": [
        {
          "data": {
            "text/plain": [
              "array([0.0320586 , 0.08714432, 0.23688282, 0.64391426])"
            ]
          },
          "execution_count": 16,
          "metadata": {},
          "output_type": "execute_result"
        }
      ],
      "source": [
        "proba = softmax(np.array([-1, 0, 1, 2]))\n",
        "proba"
      ]
    },
    {
      "cell_type": "code",
      "execution_count": null,
      "id": "2388c5b0",
      "metadata": {
        "id": "2388c5b0",
        "outputId": "c981c9ac-0faa-4285-aa97-a26cf14eb93f"
      },
      "outputs": [
        {
          "data": {
            "text/plain": [
              "1.0"
            ]
          },
          "execution_count": 17,
          "metadata": {},
          "output_type": "execute_result"
        }
      ],
      "source": [
        "sum(proba)"
      ]
    },
    {
      "cell_type": "markdown",
      "id": "b7977ddf",
      "metadata": {
        "id": "b7977ddf"
      },
      "source": [
        "# 6. Swish (Hidden Layer)"
      ]
    },
    {
      "cell_type": "markdown",
      "id": "31667369",
      "metadata": {
        "id": "31667369"
      },
      "source": [
        "Swish is a self-gated activation function."
      ]
    },
    {
      "cell_type": "code",
      "execution_count": null,
      "id": "94bcf6dc",
      "metadata": {
        "id": "94bcf6dc"
      },
      "outputs": [],
      "source": [
        "def swish(x, beta=1.0):\n",
        "    return x * sigmoid(beta * x)\n"
      ]
    },
    {
      "cell_type": "code",
      "execution_count": null,
      "id": "aa3867fb",
      "metadata": {
        "id": "aa3867fb",
        "outputId": "40b3d963-1f48-4947-c652-ba0a7b176333"
      },
      "outputs": [
        {
          "data": {
            "text/plain": [
              "4.966535745378576"
            ]
          },
          "execution_count": 19,
          "metadata": {},
          "output_type": "execute_result"
        }
      ],
      "source": [
        "swish(5)"
      ]
    },
    {
      "cell_type": "code",
      "execution_count": null,
      "id": "ac227b4a",
      "metadata": {
        "id": "ac227b4a",
        "outputId": "606795bb-e4a2-4e6e-a72d-f52563a3daca"
      },
      "outputs": [
        {
          "data": {
            "text/plain": [
              "array([-0.26894142,  0.        ,  0.73105858,  1.76159416])"
            ]
          },
          "execution_count": 20,
          "metadata": {},
          "output_type": "execute_result"
        }
      ],
      "source": [
        "swish(np.array([-1, 0, 1, 2]))"
      ]
    },
    {
      "cell_type": "markdown",
      "id": "38e55866",
      "metadata": {
        "id": "38e55866"
      },
      "source": [
        "# 7. Linear (Output Layer)"
      ]
    },
    {
      "cell_type": "markdown",
      "id": "4049385f",
      "metadata": {
        "id": "4049385f"
      },
      "source": [
        "Linear or identity activation function returns the input directly."
      ]
    },
    {
      "cell_type": "code",
      "execution_count": null,
      "id": "8f680b33",
      "metadata": {
        "id": "8f680b33"
      },
      "outputs": [],
      "source": [
        "def linear(x):\n",
        "    return x"
      ]
    },
    {
      "cell_type": "code",
      "execution_count": null,
      "id": "c6abc3a2",
      "metadata": {
        "id": "c6abc3a2",
        "outputId": "b5fa5921-28da-4e86-8353-ce06fb1bfd87"
      },
      "outputs": [
        {
          "data": {
            "text/plain": [
              "10"
            ]
          },
          "execution_count": 22,
          "metadata": {},
          "output_type": "execute_result"
        }
      ],
      "source": [
        "linear(10)"
      ]
    },
    {
      "cell_type": "markdown",
      "id": "ef852cf7",
      "metadata": {
        "id": "ef852cf7"
      },
      "source": [
        "# 8. Tanh (Hyperbolic Tangent)"
      ]
    },
    {
      "cell_type": "code",
      "execution_count": null,
      "id": "26e87100",
      "metadata": {
        "id": "26e87100"
      },
      "outputs": [],
      "source": [
        "def tanh(x):\n",
        "    return np.tanh(x)"
      ]
    },
    {
      "cell_type": "code",
      "execution_count": null,
      "id": "e3ce4a70",
      "metadata": {
        "id": "e3ce4a70",
        "outputId": "dabe6503-d873-4c30-cc39-a5234f268c80"
      },
      "outputs": [
        {
          "data": {
            "text/plain": [
              "0.9999999958776927"
            ]
          },
          "execution_count": 24,
          "metadata": {},
          "output_type": "execute_result"
        }
      ],
      "source": [
        "tanh(10)"
      ]
    },
    {
      "cell_type": "code",
      "execution_count": null,
      "id": "dbd65fac",
      "metadata": {
        "id": "dbd65fac",
        "outputId": "3623505d-4297-43d5-950a-f019728a46d6"
      },
      "outputs": [
        {
          "data": {
            "text/plain": [
              "array([-0.76159416,  0.        ,  0.76159416,  0.96402758])"
            ]
          },
          "execution_count": 25,
          "metadata": {},
          "output_type": "execute_result"
        }
      ],
      "source": [
        "tanh([-1, 0, 1, 2])"
      ]
    },
    {
      "cell_type": "code",
      "execution_count": null,
      "id": "ae2dc284",
      "metadata": {
        "id": "ae2dc284"
      },
      "outputs": [],
      "source": [
        "import math"
      ]
    },
    {
      "cell_type": "code",
      "execution_count": null,
      "id": "8560c99c",
      "metadata": {
        "id": "8560c99c"
      },
      "outputs": [],
      "source": [
        "def tanh(x):\n",
        "    result = (math.exp(x) - math.exp(-x)) / (math.exp(x) + math.exp(-x))\n",
        "    return result"
      ]
    },
    {
      "cell_type": "code",
      "execution_count": null,
      "id": "48ef9ce5",
      "metadata": {
        "id": "48ef9ce5",
        "outputId": "ac5f9b52-25b4-4dd9-cae5-afe1760c3ea5"
      },
      "outputs": [
        {
          "data": {
            "text/plain": [
              "-0.7615941559557649"
            ]
          },
          "execution_count": 28,
          "metadata": {},
          "output_type": "execute_result"
        }
      ],
      "source": [
        "tanh(-1)"
      ]
    }
  ],
  "metadata": {
    "kernelspec": {
      "display_name": "Python 3 (ipykernel)",
      "language": "python",
      "name": "python3"
    },
    "language_info": {
      "codemirror_mode": {
        "name": "ipython",
        "version": 3
      },
      "file_extension": ".py",
      "mimetype": "text/x-python",
      "name": "python",
      "nbconvert_exporter": "python",
      "pygments_lexer": "ipython3",
      "version": "3.9.13"
    },
    "colab": {
      "provenance": [],
      "include_colab_link": true
    }
  },
  "nbformat": 4,
  "nbformat_minor": 5
}